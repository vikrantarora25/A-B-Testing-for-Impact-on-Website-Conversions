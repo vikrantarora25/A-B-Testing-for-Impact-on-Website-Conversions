{
 "cells": [
  {
   "cell_type": "markdown",
   "metadata": {},
   "source": [
    "## A/B Testing to Determine Effect of Free Trial Screener on Conversions"
   ]
  },
  {
   "cell_type": "markdown",
   "metadata": {},
   "source": [
    "### Experiment Description\n",
    "\n",
    "At the time of this experiment, Udacity courses currently have two options on the course overview page: \"start free trial\", and \"access course materials\". <br>\n",
    "\n",
    "If the student clicks \"start free trial\", they will be asked to enter their credit card information, and then they will be enrolled in a free trial for the paid version of the course. After 14 days, they will automatically be charged unless they cancel first.\n",
    "\n",
    "If the student clicks \"access course materials\", they will be able to view the videos and take the quizzes for free, but they will not receive coaching support or a verified certificate, and they will not submit their final project for feedback.\n",
    "\n",
    "In the experiment, Udacity tested a change where if the student clicked \"start free trial\", they were asked how much time they had available to devote to the course. If the student indicated 5 or more hours per week, they would be taken through the checkout process as usual. If they indicated fewer than 5 hours per week, a message would appear indicating that Udacity courses usually require a greater time commitment for successful completion, and suggesting that the student might like to access the course materials for free. At this point, the student would have the option to continue enrolling in the free trial, or access the course materials for free instead."
   ]
  },
  {
   "cell_type": "markdown",
   "metadata": {},
   "source": [
    "### Hypothesis\n",
    "\n",
    "We hypothesized that free trial screener set clearer expectations for students upfront and thus reduce the number of frustrated students who left the free trial because they didn't have enough time— without significantly reducing the number of students to continue pass the free trial and eventually complete the course."
   ]
  },
  {
   "cell_type": "markdown",
   "metadata": {},
   "source": [
    "### A/B Test Design\n",
    "\n",
    "#### Unit of diversion\n",
    "\n",
    "The ***unit of diversion*** is a cookie, although if the student enrolls in the free trial, they are tracked by user-id from that point forward. \n",
    "\n",
    "The same user-id cannot enroll in the free trial twice. For users that do not enroll, their user-id is not tracked in the experiment, even if they were signed in when they visited the course overview page.\n",
    "\n",
    "\n",
    "### Metrics\n",
    "<a class=\"anchor\" id=\"metric\"></a>\n",
    "Here two types of metrics are selected for a successful experiment: Invariate and Evaluation metrics.\n",
    "\n",
    "***Invariate metircs*** are used for sanity checks or A/A experiment before running the experiment, such as checking if the distributions are the same between control and experiment group, to make sure our experiment is not inherently wrong. Invariant metrics usually have a larger unit of diversion, randomly selected, or happens before the experiment starts.  \n",
    "\n",
    "***Evaluation metrics*** are the metrics in which we expect to see a change, and are relevant to the business goals we aim to achieve. For each metric we state a $Dmin$ - which marks the minimum change which is practically significant to the business. **For instance, stating that any increase in net conversion rate that is under 1%, even if statistically significant, is not practical to the business.**\n",
    "\n",
    "### Invariant Metric\n",
    "\n",
    "Invariate Metrics - Sanity Checks <a class=\"anchor\" id=\"invariate\"></a>\n",
    "\n",
    "| Metric Name  | Metric Formula  | $Dmin$  | Notation |\n",
    "|:-:|:-:|:-:|:-:|\n",
    "| Number of Cookies in Course Overview Page  | # unique daily cookies on page | 3000 cookies  | $C_k$ |\n",
    "| Number of Clicks on Free Trial Button  | # unique daily cookies who clicked  | 240 clicks | $C_l$ |\n",
    "\n",
    "\n",
    "In this case, the goal of measurement is how many students will allocate more than 5 hours a week for Udacity courses, which happens before students enrolling in the courses. And thus the clicks and cookies related metircs are for the invariant metircs.User-id, however, will be tracked after enrolling the course,which is not effective.\n",
    "\n",
    "Here, we are concerned about whether students click the \"free trial\" and if students' clicks for the answer to questions about the number of hours they will devote to the course, and thus clicks and cookies are important. Number of cookies is used to tell whether the change is from the questions or not.\n",
    "\n",
    "### Evaluation Metrics\n",
    "Evaluation Metrics - Performance Indicators <a class=\"anchor\" id=\"evaluation\"></a>\n",
    "\n",
    "| Metric Name  | Metric Formula  | $Dmin$  | Notation |\n",
    "|:-:|:-:|:-:|:-:|\n",
    "| Gross Conversion   |  $\\frac{enrolled}{C_l}$  | 0.01  | $Conversion_{Gross}$ |\n",
    "| Net Conversion  |  $\\frac{paid}{C_l}$  | 0.0075 | $Conversion_{Net}$ |\n",
    "\n",
    "\n",
    "Gross Conversion will be a good metric. Gross conversion means the number of enrolled divided by number of clicks. And thus in the experiment group, we hypothesized the number of enrollment will decrease after answering the screener questions, given those who selected <5 hour will not be encouraged to enroll. <br>\n",
    "\n",
    "\n",
    "Net conversion is number of user-ids to remain enrolled past the 14-day boundary (and thus make at least one payment) divided by the number of unique cookies to click the ”Start free trial” button. This metric is also necessary because of the same reason described in Retention. If the hypothesis hold true, the number of students who remain enrolled past 14 days won’t change so much. Therefore, this metric also doesn’t change."
   ]
  },
  {
   "cell_type": "code",
   "execution_count": 111,
   "metadata": {},
   "outputs": [],
   "source": [
    "import pandas as pd\n",
    "import numpy as np\n",
    "import math\n",
    "import matplotlib as plt\n",
    "%matplotlib inline"
   ]
  },
  {
   "cell_type": "markdown",
   "metadata": {},
   "source": [
    "### Baseline Data\n",
    "\n",
    "Udacity offers the following rough estimates for these metrics (presumably collected from aggregates on daily traffic)"
   ]
  },
  {
   "cell_type": "code",
   "execution_count": 112,
   "metadata": {},
   "outputs": [
    {
     "data": {
      "text/html": [
       "<div>\n",
       "<style scoped>\n",
       "    .dataframe tbody tr th:only-of-type {\n",
       "        vertical-align: middle;\n",
       "    }\n",
       "\n",
       "    .dataframe tbody tr th {\n",
       "        vertical-align: top;\n",
       "    }\n",
       "\n",
       "    .dataframe thead th {\n",
       "        text-align: right;\n",
       "    }\n",
       "</style>\n",
       "<table border=\"1\" class=\"dataframe\">\n",
       "  <thead>\n",
       "    <tr style=\"text-align: right;\">\n",
       "      <th></th>\n",
       "      <th>metrics</th>\n",
       "      <th>value</th>\n",
       "    </tr>\n",
       "  </thead>\n",
       "  <tbody>\n",
       "    <tr>\n",
       "      <td>0</td>\n",
       "      <td>Unique cookies to view page per day:</td>\n",
       "      <td>40000.000000</td>\n",
       "    </tr>\n",
       "    <tr>\n",
       "      <td>1</td>\n",
       "      <td>Unique cookies to click \"Start free trial\" per...</td>\n",
       "      <td>3200.000000</td>\n",
       "    </tr>\n",
       "    <tr>\n",
       "      <td>2</td>\n",
       "      <td>Enrollments per day:</td>\n",
       "      <td>660.000000</td>\n",
       "    </tr>\n",
       "    <tr>\n",
       "      <td>3</td>\n",
       "      <td>Click-through-probability on \"Start free trial\":</td>\n",
       "      <td>0.080000</td>\n",
       "    </tr>\n",
       "    <tr>\n",
       "      <td>4</td>\n",
       "      <td>Probability of enrolling, given click:</td>\n",
       "      <td>0.206250</td>\n",
       "    </tr>\n",
       "    <tr>\n",
       "      <td>5</td>\n",
       "      <td>Probability of payment, given enroll:</td>\n",
       "      <td>0.530000</td>\n",
       "    </tr>\n",
       "    <tr>\n",
       "      <td>6</td>\n",
       "      <td>Probability of payment, given click</td>\n",
       "      <td>0.109313</td>\n",
       "    </tr>\n",
       "  </tbody>\n",
       "</table>\n",
       "</div>"
      ],
      "text/plain": [
       "                                             metrics         value\n",
       "0               Unique cookies to view page per day:  40000.000000\n",
       "1  Unique cookies to click \"Start free trial\" per...   3200.000000\n",
       "2                               Enrollments per day:    660.000000\n",
       "3   Click-through-probability on \"Start free trial\":      0.080000\n",
       "4             Probability of enrolling, given click:      0.206250\n",
       "5              Probability of payment, given enroll:      0.530000\n",
       "6                Probability of payment, given click      0.109313"
      ]
     },
     "execution_count": 112,
     "metadata": {},
     "output_type": "execute_result"
    }
   ],
   "source": [
    "df_baseline=pd.read_excel(r\"C:\\Users\\vikraror\\Google Drive\\Analytics\\Github & Other projects\\AB_testing_final_project_udacity-master/final-project-baseline-values.xlsx\", \n",
    "                 header=None, names=['metrics','value'])\n",
    "df_baseline"
   ]
  },
  {
   "cell_type": "markdown",
   "metadata": {},
   "source": [
    "Probability of enrolling, given click:\t0.206---P(of enrolling once free trial button is clicked)\n",
    "\n",
    "Probability of payment, given enroll:\t0.53 ----P(payment given already enrolled)\n",
    "\n",
    "**So, out of 100 who enroll 53 make payment**"
   ]
  },
  {
   "cell_type": "markdown",
   "metadata": {},
   "source": [
    "## Calculate standard deviation for evaluation metrics"
   ]
  },
  {
   "cell_type": "markdown",
   "metadata": {},
   "source": [
    "**The more variant a metric is, the harder it is to reach a significant result.**\n",
    "\n",
    "Assuming a sample size of 5,000 cookies visiting the course overview page per day (as given in project's instructions) - we want to estimate a standard deviation, for the evaluation metrics only.\n",
    "\n",
    "The sample size we are considering should be smaller than the \"population\" we collected and small enough to have two groups with that size. Given the sample size of 5000 pageviews for each metric, we will rescale the baseline values."
   ]
  },
  {
   "cell_type": "code",
   "execution_count": 113,
   "metadata": {},
   "outputs": [
    {
     "data": {
      "text/plain": [
       "0.020230604137049392"
      ]
     },
     "execution_count": 113,
     "metadata": {},
     "output_type": "execute_result"
    }
   ],
   "source": [
    "#sample size of 5,000 cookies visiting the course overview page per day\n",
    "page_views=5000\n",
    "\n",
    "## standard deviation= sqrt(p(1-p)/n)\n",
    "\n",
    "prob_enrol = df_baseline.loc[4,'value']\n",
    "sd_gc = np.sqrt((prob_enrol*(1-prob_enrol))/((page_views*df_baseline.iloc[1,1]/df_baseline.iloc[0,1])))\n",
    "\n",
    "#0.206*(1-0.206)/(5000*(3200/40000))>-1st part is prob_enrol(1-prob_enrol), 2nd is (baseline page views)*click through rate\n",
    "\n",
    "sd_gc"
   ]
  },
  {
   "cell_type": "code",
   "execution_count": 114,
   "metadata": {},
   "outputs": [
    {
     "data": {
      "text/plain": [
       "0.01560154458248846"
      ]
     },
     "execution_count": 114,
     "metadata": {},
     "output_type": "execute_result"
    }
   ],
   "source": [
    "# standard deviation of net conversion\n",
    "\n",
    "prob_payment=df_baseline.loc[6,'value']\n",
    "\n",
    "sd_nc= np.sqrt((prob_payment*(1-prob_payment))/(page_views*df_baseline.iloc[1,1]/df_baseline.iloc[0,1]))\n",
    "sd_nc"
   ]
  },
  {
   "cell_type": "markdown",
   "metadata": {},
   "source": [
    "For those who engage/click with the website's free trail button:\n",
    "\n",
    "- Mean of enrollment/Gross conversion is 0.206 and SD is 0.02\n",
    "\n",
    "- Mean of payment/net conversion is 0.109 and SD is 0.0156"
   ]
  },
  {
   "cell_type": "markdown",
   "metadata": {},
   "source": [
    "# Sample Size Determination"
   ]
  },
  {
   "cell_type": "markdown",
   "metadata": {},
   "source": [
    "Baseline conversion. The baseline conversion rate defines the current conversion rate of the page you want to test. It is expressed as percentage and is calculated as the number of successful actions taken on that page, divided by the number of visitors who viewed the page."
   ]
  },
  {
   "cell_type": "code",
   "execution_count": 115,
   "metadata": {},
   "outputs": [],
   "source": [
    "alpha=0.05 #(acceptable level of type 1 error- accepting H0 when its false)\n",
    "\n",
    "beta = 0.20 # (acceptable lebvel of type 2 error- failing to reject H0 when its false)\n",
    "\n",
    "min_effect_size_gc= 0.01\n",
    "\n",
    "min_effect_size_nc= 0.0075"
   ]
  },
  {
   "cell_type": "markdown",
   "metadata": {},
   "source": [
    "sample size calculated using :- https://www.evanmiller.org/ab-testing/sample-size.html"
   ]
  },
  {
   "cell_type": "code",
   "execution_count": 116,
   "metadata": {},
   "outputs": [
    {
     "data": {
      "text/html": [
       "<div>\n",
       "<style scoped>\n",
       "    .dataframe tbody tr th:only-of-type {\n",
       "        vertical-align: middle;\n",
       "    }\n",
       "\n",
       "    .dataframe tbody tr th {\n",
       "        vertical-align: top;\n",
       "    }\n",
       "\n",
       "    .dataframe thead th {\n",
       "        text-align: right;\n",
       "    }\n",
       "</style>\n",
       "<table border=\"1\" class=\"dataframe\">\n",
       "  <thead>\n",
       "    <tr style=\"text-align: right;\">\n",
       "      <th></th>\n",
       "      <th>SampleSize</th>\n",
       "    </tr>\n",
       "  </thead>\n",
       "  <tbody>\n",
       "    <tr>\n",
       "      <td>Gross Conversion</td>\n",
       "      <td>25835</td>\n",
       "    </tr>\n",
       "    <tr>\n",
       "      <td>Net Conversion</td>\n",
       "      <td>27413</td>\n",
       "    </tr>\n",
       "  </tbody>\n",
       "</table>\n",
       "</div>"
      ],
      "text/plain": [
       "                  SampleSize\n",
       "Gross Conversion       25835\n",
       "Net Conversion         27413"
      ]
     },
     "execution_count": 116,
     "metadata": {},
     "output_type": "execute_result"
    }
   ],
   "source": [
    "sample_size=pd.DataFrame({'SampleSize':[25835,27413]}, index = ['Gross Conversion','Net Conversion'])\n",
    "sample_size\n",
    "\n",
    "#below is sample_size of clicks on free trail button"
   ]
  },
  {
   "cell_type": "code",
   "execution_count": 117,
   "metadata": {},
   "outputs": [
    {
     "name": "stdout",
     "output_type": "stream",
     "text": [
      "Sample size of page views needed for control & experiment groups is 342662 per group\n"
     ]
    }
   ],
   "source": [
    "#a sample would mean a person who visited course/free trail page and clicked on free trail button\n",
    "\n",
    "ctr_free_trail=3200/40000 #(unique cookies clicking/unique cookies visiting)\n",
    "\n",
    "page_views_needed=27413/ctr_free_trail\n",
    "print(\"Sample size of page views needed for control & experiment groups is {} per group\".format(round(page_views_needed)))"
   ]
  },
  {
   "cell_type": "markdown",
   "metadata": {},
   "source": [
    "# Sanity Checks to check whether control & exp groups are similar"
   ]
  },
  {
   "cell_type": "code",
   "execution_count": 119,
   "metadata": {},
   "outputs": [],
   "source": [
    "df_control=pd.read_excel(\"Sanity_Check.xlsx\",sheet_name=\"Control\")\n",
    "df_exp=pd.read_excel(\"Sanity_Check.xlsx\",sheet_name=\"Experiment\")"
   ]
  },
  {
   "cell_type": "code",
   "execution_count": 120,
   "metadata": {},
   "outputs": [
    {
     "data": {
      "text/html": [
       "<div>\n",
       "<style scoped>\n",
       "    .dataframe tbody tr th:only-of-type {\n",
       "        vertical-align: middle;\n",
       "    }\n",
       "\n",
       "    .dataframe tbody tr th {\n",
       "        vertical-align: top;\n",
       "    }\n",
       "\n",
       "    .dataframe thead th {\n",
       "        text-align: right;\n",
       "    }\n",
       "</style>\n",
       "<table border=\"1\" class=\"dataframe\">\n",
       "  <thead>\n",
       "    <tr style=\"text-align: right;\">\n",
       "      <th></th>\n",
       "      <th>Date</th>\n",
       "      <th>Pageviews</th>\n",
       "      <th>Clicks</th>\n",
       "      <th>Enrollments</th>\n",
       "      <th>Payments</th>\n",
       "    </tr>\n",
       "  </thead>\n",
       "  <tbody>\n",
       "    <tr>\n",
       "      <td>0</td>\n",
       "      <td>Sat, Oct 11</td>\n",
       "      <td>7723</td>\n",
       "      <td>687</td>\n",
       "      <td>134.0</td>\n",
       "      <td>70.0</td>\n",
       "    </tr>\n",
       "    <tr>\n",
       "      <td>1</td>\n",
       "      <td>Sun, Oct 12</td>\n",
       "      <td>9102</td>\n",
       "      <td>779</td>\n",
       "      <td>147.0</td>\n",
       "      <td>70.0</td>\n",
       "    </tr>\n",
       "    <tr>\n",
       "      <td>2</td>\n",
       "      <td>Mon, Oct 13</td>\n",
       "      <td>10511</td>\n",
       "      <td>909</td>\n",
       "      <td>167.0</td>\n",
       "      <td>95.0</td>\n",
       "    </tr>\n",
       "    <tr>\n",
       "      <td>3</td>\n",
       "      <td>Tue, Oct 14</td>\n",
       "      <td>9871</td>\n",
       "      <td>836</td>\n",
       "      <td>156.0</td>\n",
       "      <td>105.0</td>\n",
       "    </tr>\n",
       "    <tr>\n",
       "      <td>4</td>\n",
       "      <td>Wed, Oct 15</td>\n",
       "      <td>10014</td>\n",
       "      <td>837</td>\n",
       "      <td>163.0</td>\n",
       "      <td>64.0</td>\n",
       "    </tr>\n",
       "  </tbody>\n",
       "</table>\n",
       "</div>"
      ],
      "text/plain": [
       "          Date  Pageviews  Clicks  Enrollments  Payments\n",
       "0  Sat, Oct 11       7723     687        134.0      70.0\n",
       "1  Sun, Oct 12       9102     779        147.0      70.0\n",
       "2  Mon, Oct 13      10511     909        167.0      95.0\n",
       "3  Tue, Oct 14       9871     836        156.0     105.0\n",
       "4  Wed, Oct 15      10014     837        163.0      64.0"
      ]
     },
     "execution_count": 120,
     "metadata": {},
     "output_type": "execute_result"
    }
   ],
   "source": [
    "df_control.head()"
   ]
  },
  {
   "cell_type": "code",
   "execution_count": 121,
   "metadata": {},
   "outputs": [],
   "source": [
    "control=[]\n",
    "exp=[]\n",
    "for col in df_control.iloc[:,1:]:\n",
    "    control.append(df_control[col].sum())\n",
    "    exp.append(df_exp[col].sum())"
   ]
  },
  {
   "cell_type": "code",
   "execution_count": 122,
   "metadata": {},
   "outputs": [],
   "source": [
    "control=pd.Series(control,index=list([df_control.iloc[:,1:].columns]))\n",
    "exp=pd.Series(exp,index=list([df_control.iloc[:,1:]]))"
   ]
  },
  {
   "cell_type": "code",
   "execution_count": 123,
   "metadata": {
    "scrolled": true
   },
   "outputs": [
    {
     "data": {
      "text/html": [
       "<div>\n",
       "<style scoped>\n",
       "    .dataframe tbody tr th:only-of-type {\n",
       "        vertical-align: middle;\n",
       "    }\n",
       "\n",
       "    .dataframe tbody tr th {\n",
       "        vertical-align: top;\n",
       "    }\n",
       "\n",
       "    .dataframe thead th {\n",
       "        text-align: right;\n",
       "    }\n",
       "</style>\n",
       "<table border=\"1\" class=\"dataframe\">\n",
       "  <thead>\n",
       "    <tr style=\"text-align: right;\">\n",
       "      <th></th>\n",
       "      <th>Control</th>\n",
       "      <th>Experiment</th>\n",
       "    </tr>\n",
       "  </thead>\n",
       "  <tbody>\n",
       "    <tr>\n",
       "      <td>Pageviews</td>\n",
       "      <td>345543.0</td>\n",
       "      <td>344660.0</td>\n",
       "    </tr>\n",
       "    <tr>\n",
       "      <td>Clicks</td>\n",
       "      <td>28378.0</td>\n",
       "      <td>28325.0</td>\n",
       "    </tr>\n",
       "    <tr>\n",
       "      <td>Enrollments</td>\n",
       "      <td>3785.0</td>\n",
       "      <td>3423.0</td>\n",
       "    </tr>\n",
       "    <tr>\n",
       "      <td>Payments</td>\n",
       "      <td>2033.0</td>\n",
       "      <td>1945.0</td>\n",
       "    </tr>\n",
       "  </tbody>\n",
       "</table>\n",
       "</div>"
      ],
      "text/plain": [
       "              Control  Experiment\n",
       "Pageviews    345543.0    344660.0\n",
       "Clicks        28378.0     28325.0\n",
       "Enrollments    3785.0      3423.0\n",
       "Payments       2033.0      1945.0"
      ]
     },
     "execution_count": 123,
     "metadata": {},
     "output_type": "execute_result"
    }
   ],
   "source": [
    "df_results=pd.concat([control,exp],axis=1)\n",
    "df_results.columns= ['Control','Experiment']\n",
    "df_results"
   ]
  },
  {
   "cell_type": "code",
   "execution_count": 124,
   "metadata": {},
   "outputs": [
    {
     "name": "stderr",
     "output_type": "stream",
     "text": [
      "C:\\Users\\vikraror\\AppData\\Local\\Continuum\\anaconda3\\lib\\site-packages\\pandas\\core\\generic.py:3946: PerformanceWarning: dropping on a non-lexsorted multi-index without a level parameter may impact performance.\n",
      "  new_axis = axis.drop(labels, errors=errors)\n"
     ]
    },
    {
     "data": {
      "text/html": [
       "<div>\n",
       "<style scoped>\n",
       "    .dataframe tbody tr th:only-of-type {\n",
       "        vertical-align: middle;\n",
       "    }\n",
       "\n",
       "    .dataframe tbody tr th {\n",
       "        vertical-align: top;\n",
       "    }\n",
       "\n",
       "    .dataframe thead th {\n",
       "        text-align: right;\n",
       "    }\n",
       "</style>\n",
       "<table border=\"1\" class=\"dataframe\">\n",
       "  <thead>\n",
       "    <tr style=\"text-align: right;\">\n",
       "      <th></th>\n",
       "      <th>Control</th>\n",
       "      <th>Experiment</th>\n",
       "    </tr>\n",
       "  </thead>\n",
       "  <tbody>\n",
       "    <tr>\n",
       "      <td>Pageviews</td>\n",
       "      <td>345543.0</td>\n",
       "      <td>344660.0</td>\n",
       "    </tr>\n",
       "    <tr>\n",
       "      <td>Clicks</td>\n",
       "      <td>28378.0</td>\n",
       "      <td>28325.0</td>\n",
       "    </tr>\n",
       "  </tbody>\n",
       "</table>\n",
       "</div>"
      ],
      "text/plain": [
       "            Control  Experiment\n",
       "Pageviews  345543.0    344660.0\n",
       "Clicks      28378.0     28325.0"
      ]
     },
     "execution_count": 124,
     "metadata": {},
     "output_type": "execute_result"
    }
   ],
   "source": [
    "#dropping non-inavriant metrics enrollements & payments\n",
    "df_results.drop(index=['Enrollments',\"Payments\"],inplace=True)\n",
    "df_results"
   ]
  },
  {
   "cell_type": "markdown",
   "metadata": {},
   "source": [
    "We want to count the total amount of cookie pageviews & clicks in each group and see if there is a significant difference in the amount of cookies. A significant difference will imply a biased experiment that we should not rely on it's results."
   ]
  },
  {
   "cell_type": "markdown",
   "metadata": {},
   "source": [
    "**Testing at 95% confidence level**"
   ]
  },
  {
   "cell_type": "code",
   "execution_count": 125,
   "metadata": {},
   "outputs": [
    {
     "data": {
      "text/html": [
       "<div>\n",
       "<style scoped>\n",
       "    .dataframe tbody tr th:only-of-type {\n",
       "        vertical-align: middle;\n",
       "    }\n",
       "\n",
       "    .dataframe tbody tr th {\n",
       "        vertical-align: top;\n",
       "    }\n",
       "\n",
       "    .dataframe thead th {\n",
       "        text-align: right;\n",
       "    }\n",
       "</style>\n",
       "<table border=\"1\" class=\"dataframe\">\n",
       "  <thead>\n",
       "    <tr style=\"text-align: right;\">\n",
       "      <th></th>\n",
       "      <th>Control</th>\n",
       "      <th>Experiment</th>\n",
       "      <th>Total</th>\n",
       "      <th>Prob</th>\n",
       "      <th>StdErr</th>\n",
       "      <th>MargErr</th>\n",
       "      <th>CI_lower</th>\n",
       "      <th>CI_upper</th>\n",
       "      <th>Obs_val</th>\n",
       "      <th>Pass_Sanity</th>\n",
       "    </tr>\n",
       "  </thead>\n",
       "  <tbody>\n",
       "    <tr>\n",
       "      <td>Pageviews</td>\n",
       "      <td>345543.0</td>\n",
       "      <td>344660.0</td>\n",
       "      <td>690203.0</td>\n",
       "      <td>0.5</td>\n",
       "      <td>0.000602</td>\n",
       "      <td>0.001180</td>\n",
       "      <td>0.498820</td>\n",
       "      <td>0.501180</td>\n",
       "      <td>0.499360</td>\n",
       "      <td>True</td>\n",
       "    </tr>\n",
       "    <tr>\n",
       "      <td>Clicks</td>\n",
       "      <td>28378.0</td>\n",
       "      <td>28325.0</td>\n",
       "      <td>56703.0</td>\n",
       "      <td>0.5</td>\n",
       "      <td>0.002100</td>\n",
       "      <td>0.004116</td>\n",
       "      <td>0.495884</td>\n",
       "      <td>0.504116</td>\n",
       "      <td>0.499533</td>\n",
       "      <td>True</td>\n",
       "    </tr>\n",
       "  </tbody>\n",
       "</table>\n",
       "</div>"
      ],
      "text/plain": [
       "            Control  Experiment     Total  Prob    StdErr   MargErr  CI_lower  \\\n",
       "Pageviews  345543.0    344660.0  690203.0   0.5  0.000602  0.001180  0.498820   \n",
       "Clicks      28378.0     28325.0   56703.0   0.5  0.002100  0.004116  0.495884   \n",
       "\n",
       "           CI_upper   Obs_val  Pass_Sanity  \n",
       "Pageviews  0.501180  0.499360         True  \n",
       "Clicks     0.504116  0.499533         True  "
      ]
     },
     "execution_count": 125,
     "metadata": {},
     "output_type": "execute_result"
    }
   ],
   "source": [
    "df_results['Total']=df_results.Control + df_results.Experiment\n",
    "df_results['Prob'] = 0.5\n",
    "df_results['StdErr'] = np.sqrt((df_results.Prob * (1- df_results.Prob))/df_results.Total)\n",
    "df_results['MargErr']=1.96*df_results['StdErr']\n",
    "df_results[\"CI_lower\"] = df_results.Prob - df_results.MargErr\n",
    "df_results[\"CI_upper\"] = df_results.Prob + df_results.MargErr\n",
    "df_results[\"Obs_val\"] = df_results.Experiment/df_results.Total\n",
    "df_results[\"Pass_Sanity\"]=df_results.apply(lambda x: (x.Obs_val>x.CI_lower) and (x.Obs_val<x.CI_upper),axis=1)\n",
    "df_results"
   ]
  },
  {
   "cell_type": "markdown",
   "metadata": {},
   "source": [
    "No statistically significant difference between both the invariant metrics, so we are good to go"
   ]
  },
  {
   "cell_type": "markdown",
   "metadata": {},
   "source": [
    "# Effect Size Tests For Evaluation Metrics: Gross & Net Conversions"
   ]
  },
  {
   "cell_type": "code",
   "execution_count": 128,
   "metadata": {},
   "outputs": [],
   "source": [
    "df_control.dropna(inplace=True)\n",
    "df_exp.dropna(inplace=True)"
   ]
  },
  {
   "cell_type": "markdown",
   "metadata": {},
   "source": [
    "### Effect size test for Gross Conversion"
   ]
  },
  {
   "cell_type": "code",
   "execution_count": 130,
   "metadata": {},
   "outputs": [
    {
     "name": "stdout",
     "output_type": "stream",
     "text": [
      "Gross conversion rates Control: 0.219    & Exp: 0.198\n",
      "Difference of Gross Conversion between Control Group and Experiment Group is -0.021\n"
     ]
    }
   ],
   "source": [
    "gcr_control = sum(df_control['Enrollments'])/sum(df_control['Clicks'])\n",
    "gcr_exp = sum(df_exp['Enrollments'])/sum(df_exp['Clicks'])\n",
    "\n",
    "diff_gcr = gcr_exp-gcr_control\n",
    "\n",
    "print(\"Gross conversion rates Control: {}    & Exp: {}\".format(round(gcr_control,3),round(gcr_exp,3)))\n",
    "print(\"Difference of Gross Conversion between Control Group and Experiment Group is {}\".format(round(diff_gcr,3)))"
   ]
  },
  {
   "cell_type": "markdown",
   "metadata": {},
   "source": [
    "**Gross conversions for exp group is less than control group by 2%, is the decline statistically significant needs to be checked**"
   ]
  },
  {
   "cell_type": "markdown",
   "metadata": {},
   "source": [
    "Side notes:\n",
    "    \n",
    "**Comparing Two Independent Proportions**\n",
    "https://online.stat.psu.edu/stat800/node/53/\n",
    "\n",
    "Recall from the previous page that when comparing two proportions – For proportions there consideration to using \"pooled\" or \"unpooled\" is based on the hypothesis: if testing \"no difference\" between the two proportions then we will pool the variance, however, if testing for a specific difference (e.g. the difference between two proportions is 0.1, 0.02, etc --- i.e. the value in Ho is a number other than 0) then unpooled will be used.  In this example with Ho being \"no difference\" (i.e. 0 is the null value) we will use the pooled estimate method.\n",
    "\n",
    "Standard error. Compute the standard error (SE) of the sampling distribution difference between two proportions.\n",
    "SE = sqrt{ p * ( 1 - p ) * [ (1/n1) + (1/n2) ] }\n",
    "\n",
    "p = (p1 * n1 + p2 * n2) / (n1 + n2)\n",
    "where p is the pooled sample proportion, n1 is the size of sample 1, and n2 is the size of sample 2.\n",
    "\n",
    "\n",
    "\n",
    "\n",
    "https://stattrek.com/hypothesis-test/difference-in-proportions.aspx\n"
   ]
  },
  {
   "cell_type": "markdown",
   "metadata": {},
   "source": [
    "**Pooled Standard Error of gross conversions**"
   ]
  },
  {
   "cell_type": "code",
   "execution_count": 18,
   "metadata": {},
   "outputs": [
    {
     "name": "stdout",
     "output_type": "stream",
     "text": [
      "Pooled standard error of gross conversions is 0.0044\n",
      "95% confidence interval for proportion difference is (-0.0291,-0.012)\n"
     ]
    }
   ],
   "source": [
    "pooled_prob_gc= (sum(df_control['Enrollments'])+sum(df_exp['Enrollments']))/(sum(df_control['Clicks'])+sum(df_exp['Clicks']))\n",
    "\n",
    "pooled_sd_gc=math.sqrt(pooled_prob_gc*(1-pooled_prob_gc)*(1/sum(df_control['Clicks'])+1/sum(df_exp['Clicks'])))\n",
    "\n",
    "\n",
    "print(\"Pooled standard error of gross conversions is {}\".format(round(pooled_sd_gc,4)))\n",
    "\n",
    "margin_err_gc=pooled_sd_gc*1.96 #(1.96 is critical value)\n",
    "\n",
    "lower_bound_gcr= diff_gcr - margin_err_gc\n",
    "upper_bound_gcr= diff_gcr + margin_err_gc\n",
    "print(\"95% confidence interval for proportion difference is ({},{})\".format(round(lower_bound_gcr,4),round(upper_bound_gcr,4)))"
   ]
  },
  {
   "cell_type": "markdown",
   "metadata": {},
   "source": [
    "Min Effect size= -1% \n",
    "\n",
    "\n",
    "The effect size of -0.01 is not within lower & upper bound, i.e. the difference in gcr even after adjusting for margin of error is beyond effect size it means the difference is statistically significant \n",
    "\n",
    "So neither 0 (no difference) nor -0.01(practical significance) fall within the 95% confidence interval, so difference of Gross connversion between Control group and Experiment group is statistically significant and also practically significant\n",
    "\n",
    "Thus we conclude that gross converions have fallen"
   ]
  },
  {
   "cell_type": "markdown",
   "metadata": {},
   "source": [
    "**Checking via Z-score**"
   ]
  },
  {
   "cell_type": "markdown",
   "metadata": {},
   "source": [
    "z = (p1 - p2) / SE"
   ]
  },
  {
   "cell_type": "code",
   "execution_count": 19,
   "metadata": {
    "scrolled": true
   },
   "outputs": [
    {
     "data": {
      "text/plain": [
       "-4.701830023753982"
      ]
     },
     "execution_count": 19,
     "metadata": {},
     "output_type": "execute_result"
    }
   ],
   "source": [
    "z_score_gcr=diff_gcr/pooled_sd_gc\n",
    "z_score_gcr"
   ]
  },
  {
   "cell_type": "markdown",
   "metadata": {},
   "source": [
    "For this one-tailed test, corresponding to z_score of -4.7 p-value is <.0001 so H0 is rejected and there is fall in gross conversion rate"
   ]
  },
  {
   "cell_type": "markdown",
   "metadata": {},
   "source": [
    "### Effect size test for net conversions"
   ]
  },
  {
   "cell_type": "code",
   "execution_count": 131,
   "metadata": {},
   "outputs": [
    {
     "name": "stdout",
     "output_type": "stream",
     "text": [
      "Net conversion rate Control: 0.118    & Exp: 0.113\n",
      "Difference of Net Conversion between Control Group and Experiment Group is -0.005\n"
     ]
    }
   ],
   "source": [
    "ncr_control=sum(df_control['Payments'])/sum(df_control['Clicks'])\n",
    "ncr_exp= sum(df_exp['Payments'])/sum(df_exp['Clicks'])\n",
    "diff_ncr=ncr_exp-ncr_control\n",
    "\n",
    "\n",
    "print(\"Net conversion rate Control: {}    & Exp: {}\".format(round(ncr_control,3),round(ncr_exp,3)))\n",
    "print(\"Difference of Net Conversion between Control Group and Experiment Group is {}\".format(round(diff_ncr,3)))"
   ]
  },
  {
   "cell_type": "markdown",
   "metadata": {},
   "source": [
    "**Net conversion of exp is less than control by 0.5%**"
   ]
  },
  {
   "cell_type": "markdown",
   "metadata": {},
   "source": [
    "**Pooled Standard Error of net conversions**"
   ]
  },
  {
   "cell_type": "code",
   "execution_count": 20,
   "metadata": {},
   "outputs": [
    {
     "name": "stdout",
     "output_type": "stream",
     "text": [
      "Pooled standard error of net conversions is 0.0034\n",
      "95% confidence interval for proportion difference is (-0.0116,0.0019)\n"
     ]
    }
   ],
   "source": [
    "pooled_prob_nc= (sum(df_control['Payments']) + sum(df_exp['Payments']))/(sum(df_control['Clicks'])+sum(df_exp['Clicks']))\n",
    "\n",
    "pooled_sd_nc= math.sqrt(pooled_prob_nc*(1-pooled_prob_nc)*(1/sum(df_control['Clicks'])+1/sum(df_exp['Clicks'])))\n",
    "print(\"Pooled standard error of net conversions is {}\".format(round(pooled_sd_nc,4)))\n",
    "\n",
    "margin_err_nc=1.96*pooled_sd_nc\n",
    "lower_bound_ncr=diff_ncr-margin_err_nc\n",
    "upper_bound_ncr=diff_ncr+margin_err_nc\n",
    "print(\"95% confidence interval for proportion difference is ({},{})\".format(round(lower_bound_ncr,4),round(upper_bound_ncr,4)))"
   ]
  },
  {
   "cell_type": "markdown",
   "metadata": {},
   "source": [
    "Min effect size = -0.0075\n",
    "\n",
    "Since effect size is within the lower & upper bounds i.e. effect size is not beyond difference_ncr even after adjusting moe it means there is not a significant difference between conrol & exp net conversion rate\n",
    "\n",
    "\n",
    "So both 0 (no difference) and 0.0075(practical significance) fall within the 95% confidence interval, so difference of Net conversion between Control group and Experiment group is not statiscally significant nor practically significant"
   ]
  },
  {
   "cell_type": "code",
   "execution_count": 21,
   "metadata": {},
   "outputs": [
    {
     "data": {
      "text/plain": [
       "-1.4192001144365733"
      ]
     },
     "execution_count": 21,
     "metadata": {},
     "output_type": "execute_result"
    }
   ],
   "source": [
    "z_score_ncr=diff_ncr/pooled_sd_nc\n",
    "z_score_ncr"
   ]
  },
  {
   "cell_type": "markdown",
   "metadata": {},
   "source": [
    "For this one-tailed test, corresponding to z_score of -1.42 p-value is .077804 so H0 is not rejected and there is no a fall in net conversion rate"
   ]
  },
  {
   "cell_type": "markdown",
   "metadata": {},
   "source": [
    "### Recommendation Based on Test Results"
   ]
  },
  {
   "cell_type": "markdown",
   "metadata": {},
   "source": [
    "I expect filtering students by setting minimum time expectations will not impact net conversions thus will not impact company's revenue and at the same time will reduce costs due to less tutor hours on non paying students."
   ]
  }
 ],
 "metadata": {
  "kernelspec": {
   "display_name": "Python 3",
   "language": "python",
   "name": "python3"
  },
  "language_info": {
   "codemirror_mode": {
    "name": "ipython",
    "version": 3
   },
   "file_extension": ".py",
   "mimetype": "text/x-python",
   "name": "python",
   "nbconvert_exporter": "python",
   "pygments_lexer": "ipython3",
   "version": "3.7.4"
  }
 },
 "nbformat": 4,
 "nbformat_minor": 2
}
